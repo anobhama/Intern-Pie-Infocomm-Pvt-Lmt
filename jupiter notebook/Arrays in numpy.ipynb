{
 "cells": [
  {
   "cell_type": "markdown",
   "metadata": {},
   "source": [
    "# Creating numpy array"
   ]
  },
  {
   "cell_type": "code",
   "execution_count": 1,
   "metadata": {},
   "outputs": [
    {
     "name": "stdout",
     "output_type": "stream",
     "text": [
      "[1 2 3 4 5]\n",
      "[ 6.  7.  8.  9. 10.]\n",
      "[12, 23, 34, 45, 56, 67]\n",
      "[ 1.          2.22222222  3.44444444  4.66666667  5.88888889  7.11111111\n",
      "  8.33333333  9.55555556 10.77777778 12.        ]\n",
      "[ 1  4  7 10]\n",
      "[1.00000000e+01 5.62341325e+10 3.16227766e+20 1.77827941e+30\n",
      " 1.00000000e+40]\n",
      "[0. 0. 0. 0. 0.]\n",
      "[0 0 0 0 0]\n",
      "[1. 1. 1. 1. 1.]\n",
      "[1 1 1 1 1]\n"
     ]
    }
   ],
   "source": [
    "#numpy in array\n",
    "from numpy import *\n",
    "arr=array([1,2,3,4,5])\n",
    "print(arr)\n",
    "\n",
    "#explicitly mentioning the data type\n",
    "arr1=array([6,7,8,9,10],float)\n",
    "print(arr1)\n",
    "\n",
    "#diff ways of creating numpy array\n",
    "#array()\n",
    "arr2=([12,23,34,45,56,67])\n",
    "print(arr2)\n",
    "\n",
    "#linspace() \n",
    "arr3=linspace(1,12,10) #(start ele,end ele,size of array)\n",
    "print(arr3)\n",
    "\n",
    "#arange()\n",
    "arr4=arange(1,12,3) #(start ele,end ele,differenec of initial with next)\n",
    "print(arr4)\n",
    "\n",
    "#logspace() log involved\n",
    "arr5=logspace(1,40,5)\n",
    "print(arr5)\n",
    "\n",
    "#zeros() \n",
    "#by default will be float\n",
    "arr6=zeros(5)\n",
    "print(arr6)\n",
    "arr6=zeros(5,int) #making it int type\n",
    "print(arr6)\n",
    "\n",
    "#ones()\n",
    "#by default will be float\n",
    "arr7=ones(5)\n",
    "print(arr7)\n",
    "arr7=ones(5,int) #making it int\n",
    "print(arr7)"
   ]
  },
  {
   "cell_type": "markdown",
   "metadata": {},
   "source": [
    "# array using matrix function"
   ]
  },
  {
   "cell_type": "code",
   "execution_count": 2,
   "metadata": {},
   "outputs": [
    {
     "name": "stdout",
     "output_type": "stream",
     "text": [
      "array [[1 2 3 4 9 0]\n",
      " [5 6 7 8 1 2]]\n"
     ]
    }
   ],
   "source": [
    "from numpy import *\n",
    "arr1=array([[1,2,3,4,9,0],[5,6,7,8,1,2]])\n",
    "arr2=matrix(arr1)\n",
    "print(\"array\",arr2)"
   ]
  },
  {
   "cell_type": "markdown",
   "metadata": {},
   "source": [
    "# deep copy"
   ]
  },
  {
   "cell_type": "code",
   "execution_count": 4,
   "metadata": {
    "scrolled": true
   },
   "outputs": [
    {
     "name": "stdout",
     "output_type": "stream",
     "text": [
      "array before deep copy\n",
      "[ 1  2  3  4 45 56]\n",
      "array1 [ 1  2  3  4 50 56]\n",
      "array2 [ 1  2  3  4 45 56]\n",
      "2018960833792\n",
      "2018960872352\n"
     ]
    }
   ],
   "source": [
    "from numpy import *\n",
    "arr1=array([1,2,3,4,45,56])\n",
    "print(\"array before deep copy\")\n",
    "print(arr1)\n",
    "arr2=arr1.copy()\n",
    "arr1[4]=50\n",
    "print(\"array1\",arr1)\n",
    "print(\"array2\",arr2)\n",
    "print(id(arr1))\n",
    "print(id(arr2))"
   ]
  },
  {
   "cell_type": "markdown",
   "metadata": {},
   "source": [
    "# shallow copy"
   ]
  },
  {
   "cell_type": "code",
   "execution_count": 16,
   "metadata": {},
   "outputs": [
    {
     "name": "stdout",
     "output_type": "stream",
     "text": [
      "array before shallow copy\n",
      "[ 1  2  3  4 45 56]\n",
      "array1 [ 1  2  3  4 50 56]\n",
      "array2 [ 1  2  3  4 50 56]\n",
      "2018961052016\n",
      "2018704749872\n"
     ]
    }
   ],
   "source": [
    "from numpy import *\n",
    "arr1=array([1,2,3,4,45,56])\n",
    "print(\"array before shallow copy\")\n",
    "print(arr1)\n",
    "arr2=arr1.view()\n",
    "arr1[4]=50\n",
    "print(\"array1\",arr1)\n",
    "print(\"array2\",arr2)\n",
    "print(id(arr1))\n",
    "print(id(arr2))"
   ]
  },
  {
   "cell_type": "markdown",
   "metadata": {},
   "source": [
    "# finding everything using matrix function"
   ]
  },
  {
   "cell_type": "code",
   "execution_count": 5,
   "metadata": {},
   "outputs": [
    {
     "name": "stdout",
     "output_type": "stream",
     "text": [
      "array [[1 2 3]\n",
      " [4 5 6]\n",
      " [7 8 9]]\n",
      "diagnol elements [1 5 9]\n",
      "min ele 1\n",
      "max ele 9\n"
     ]
    }
   ],
   "source": [
    "from numpy import *\n",
    "arr1=matrix('1 2 3;4 5 6;7 8 9')\n",
    "print(\"array\",arr1)\n",
    "print(\"diagnol elements\",diagonal(arr1))\n",
    "print(\"min ele\",arr1.min())\n",
    "print(\"max ele\",arr1.max())"
   ]
  },
  {
   "cell_type": "markdown",
   "metadata": {},
   "source": [
    "# operation in array"
   ]
  },
  {
   "cell_type": "code",
   "execution_count": 6,
   "metadata": {},
   "outputs": [
    {
     "name": "stdout",
     "output_type": "stream",
     "text": [
      "arr1= [[1 2 3]\n",
      " [4 5 6]\n",
      " [7 8 9]]\n",
      "arr2= [[2 3 4]\n",
      " [7 6 4]\n",
      " [9 1 6]]\n",
      "Sum= [[ 3  5  7]\n",
      " [11 11 10]\n",
      " [16  9 15]]\n",
      "Diffenrence= [[-1 -1 -1]\n",
      " [-3 -1  2]\n",
      " [-2  7  3]]\n",
      "Multiplication= [[ 43  18  30]\n",
      " [ 97  48  72]\n",
      " [151  78 114]]\n"
     ]
    }
   ],
   "source": [
    "from numpy import *\n",
    "arr1=matrix('1 2 3;4 5 6;7 8 9')\n",
    "arr2=matrix('2 3 4;7 6 4;9 1 6')\n",
    "print(\"arr1=\",arr1)\n",
    "print(\"arr2=\",arr2)\n",
    "print(\"Sum=\",arr1+arr2)\n",
    "print(\"Diffenrence=\",arr1-arr2)\n",
    "print(\"Multiplication=\",arr1*arr2)"
   ]
  },
  {
   "cell_type": "markdown",
   "metadata": {},
   "source": [
    "# addition of two arrays"
   ]
  },
  {
   "cell_type": "code",
   "execution_count": 7,
   "metadata": {},
   "outputs": [
    {
     "name": "stdout",
     "output_type": "stream",
     "text": [
      "array1=  [1 2 3 4 5]\n",
      "array2=  [5 6 7 8 9]\n",
      "added array:  [ 6  8 10 12 14]\n"
     ]
    }
   ],
   "source": [
    "from numpy import *\n",
    "arr1=array([1,2,3,4,5])\n",
    "print(\"array1= \",arr1)\n",
    "arr2=array([5,6,7,8,9])\n",
    "print(\"array2= \",arr2)\n",
    "print(\"added array: \",arr1+arr2)"
   ]
  },
  {
   "cell_type": "markdown",
   "metadata": {},
   "source": [
    "# aliasing"
   ]
  },
  {
   "cell_type": "code",
   "execution_count": 8,
   "metadata": {},
   "outputs": [
    {
     "name": "stdout",
     "output_type": "stream",
     "text": [
      "array before aliasing or changing the value\n",
      "[ 1  2  3  4 45 56]\n",
      "array1 [ 1  2  3  4 50 56]\n",
      "array2 [ 1  2  3  4 50 56]\n",
      "2018960873872\n",
      "2018960873872\n"
     ]
    }
   ],
   "source": [
    "from numpy import *\n",
    "arr1=array([1,2,3,4,45,56])\n",
    "print(\"array before aliasing or changing the value\")\n",
    "print(arr1)\n",
    "arr2=arr1\n",
    "arr1[4]=50\n",
    "print(\"array1\",arr1)\n",
    "print(\"array2\",arr2)\n",
    "print(id(arr1))\n",
    "print(id(arr2))"
   ]
  },
  {
   "cell_type": "markdown",
   "metadata": {},
   "source": [
    "# incrementing a single array"
   ]
  },
  {
   "cell_type": "code",
   "execution_count": 9,
   "metadata": {},
   "outputs": [
    {
     "name": "stdout",
     "output_type": "stream",
     "text": [
      "original array :  [1 2 3 4 5]\n",
      "incremented array:  [ 7  8  9 10 11]\n"
     ]
    }
   ],
   "source": [
    "from numpy import *\n",
    "arr=array([1,2,3,4,5])\n",
    "print(\"original array : \",arr)\n",
    "arr=arr+6\n",
    "print(\"incremented array: \",arr)"
   ]
  },
  {
   "cell_type": "markdown",
   "metadata": {},
   "source": [
    "# array operations and method"
   ]
  },
  {
   "cell_type": "code",
   "execution_count": 12,
   "metadata": {},
   "outputs": [
    {
     "name": "stdout",
     "output_type": "stream",
     "text": [
      "array('i', [1, 2, 3, 4, 5, 6])\n",
      "1\n",
      "2\n",
      "3\n",
      "4\n",
      "5\n",
      "6\n",
      "\n",
      "\n",
      "1\n",
      "2\n",
      "3\n",
      "4\n",
      "5\n",
      "6\n",
      "\n",
      "\n",
      "1 2 3 4 5 6 \n",
      "\n",
      "address and size of array (2018960840112, 6)\n",
      "data type i\n",
      "The new copied array is  array('i', [1, 2, 3, 4, 5, 6])\n",
      "\n",
      "\n",
      "The new altered array is  array('i', [2, 4, 6, 8, 10, 12])\n",
      "\n",
      "\n",
      "Enter the length of the array : 3\n",
      "Enter the array element: 1\n",
      "Enter the array element: 2\n",
      "Enter the array element: 3\n",
      "array('i', [1, 2, 3])\n",
      "Enter the array element to be searched: 3\n",
      "2\n",
      "Enter the array element to be searched: 1\n",
      "0\n"
     ]
    }
   ],
   "source": [
    "from array import *\n",
    "\n",
    "arr=array('i',[1,2,3,4,5,6])\n",
    "\n",
    "#printing the array\n",
    "#method 1\n",
    "print(arr)\n",
    "\n",
    "#method 2\n",
    "for i in arr:\n",
    "    print(i)\n",
    "print(\"\\n\")\n",
    "    \n",
    "#method 3\n",
    "for i in range(len(arr)):\n",
    "    print(arr[i])\n",
    "print(\"\\n\")\n",
    "    \n",
    "#method 4\n",
    "for i in range(6):\n",
    "    print(arr[i],end=\" \")\n",
    "print(\"\\n\")\n",
    "\n",
    "#address and size\n",
    "print(\"address and size of array\",arr.buffer_info())\n",
    "\n",
    "#typecode\n",
    "print(\"data type\",arr.typecode)\n",
    "\n",
    "#copying\n",
    "arr1=array(arr.typecode,(i for i in arr))\n",
    "print(\"The new copied array is \",arr1)\n",
    "print(\"\\n\")\n",
    "\n",
    "#can change the new array performing new operators\n",
    "arr2=array(arr1.typecode,(i+i for i in arr1))\n",
    "print(\"The new altered array is \",arr2)\n",
    "print(\"\\n\")\n",
    "\n",
    "#user input array elements\n",
    "arr3=array('i',[])\n",
    "n=int(input(\"Enter the length of the array : \"))\n",
    "for i in range(0,n):\n",
    "    inp=int(input(\"Enter the array element: \"))\n",
    "    arr3.append(inp)\n",
    "print(arr3)\n",
    "    \n",
    "#searching \n",
    "#method 1\n",
    "num=int(input(\"Enter the array element to be searched: \"))\n",
    "j=0\n",
    "for i in arr3:\n",
    "    if i == num:\n",
    "        print(j)\n",
    "    j +=1\n",
    "\n",
    "#method 2 using in build function\n",
    "num1=int(input(\"Enter the array element to be searched: \"))\n",
    "print(arr3.index(num1))"
   ]
  },
  {
   "cell_type": "markdown",
   "metadata": {},
   "source": [
    "# concatenate 2 array"
   ]
  },
  {
   "cell_type": "code",
   "execution_count": 13,
   "metadata": {},
   "outputs": [
    {
     "name": "stdout",
     "output_type": "stream",
     "text": [
      "array1  [ 1  2  3  4  5  6  7  8  9 10]\n",
      "array2  [11 22 33 44 55]\n",
      "concatenated array:  [ 1  2  3  4  5  6  7  8  9 10 11 22 33 44 55]\n"
     ]
    }
   ],
   "source": [
    "from numpy import *\n",
    "arr1=array([1,2,3,4,5,6,7,8,9,10])\n",
    "print(\"array1 \",arr1)\n",
    "arr2=array([11,22,33,44,55])\n",
    "print(\"array2 \",arr2)\n",
    "print(\"concatenated array: \",concatenate([arr1,arr2]))"
   ]
  },
  {
   "cell_type": "markdown",
   "metadata": {},
   "source": [
    "# flathen and reshape function"
   ]
  },
  {
   "cell_type": "code",
   "execution_count": 14,
   "metadata": {},
   "outputs": [
    {
     "name": "stdout",
     "output_type": "stream",
     "text": [
      "original array [[1 2 3 4 9 0]\n",
      " [5 6 7 8 1 2]]\n",
      "flattened array [1 2 3 4 9 0 5 6 7 8 1 2]\n",
      "reshaped array [[1 2 3 4]\n",
      " [9 0 5 6]\n",
      " [7 8 1 2]]\n",
      "reshaped array [[[1 2]\n",
      "  [3 4]]\n",
      "\n",
      " [[9 0]\n",
      "  [5 6]]\n",
      "\n",
      " [[7 8]\n",
      "  [1 2]]]\n"
     ]
    }
   ],
   "source": [
    "from numpy import *\n",
    "arr1=array([[1,2,3,4,9,0],[5,6,7,8,1,2]])\n",
    "print(\"original array\",arr1)\n",
    "arr2=arr1.flatten()\n",
    "print(\"flattened array\",arr2)\n",
    "arr3=arr2.reshape(3,4)\n",
    "print(\"reshaped array\",arr3)\n",
    "arr4=arr2.reshape(3,2,2)\n",
    "print(\"reshaped array\",arr4)"
   ]
  },
  {
   "cell_type": "markdown",
   "metadata": {},
   "source": [
    "# matrices"
   ]
  },
  {
   "cell_type": "code",
   "execution_count": 15,
   "metadata": {},
   "outputs": [
    {
     "name": "stdout",
     "output_type": "stream",
     "text": [
      "array= [[1 2 3]\n",
      " [4 5 6]]\n",
      "datatype int32\n",
      "dimensions 2\n",
      "order (2, 3)\n",
      "no of elements 6\n"
     ]
    }
   ],
   "source": [
    "from numpy import *\n",
    "arr=array([[1,2,3],[4,5,6]])\n",
    "print(\"array=\",arr)\n",
    "print(\"datatype\",arr.dtype)\n",
    "print(\"dimensions\",arr.ndim)\n",
    "print(\"order\",arr.shape)\n",
    "print(\"no of elements\",arr.size)"
   ]
  },
  {
   "cell_type": "markdown",
   "metadata": {},
   "source": [
    "# trigometry inbuild functions"
   ]
  },
  {
   "cell_type": "code",
   "execution_count": 17,
   "metadata": {},
   "outputs": [
    {
     "name": "stdout",
     "output_type": "stream",
     "text": [
      "Array [11 44 33 22 66 55]\n",
      "Sine [-0.99999021  0.01770193  0.99991186 -0.00885131 -0.02655115 -0.99975517]\n",
      "Cosine [ 0.0044257   0.99984331 -0.01327675 -0.99996083 -0.99964746  0.02212676]\n",
      "tan [-2.25950846e+02  1.77046993e-02 -7.53130148e+01  8.85165604e-03\n",
      "  2.65605178e-02 -4.51830879e+01]\n",
      "log [2.39789527 3.78418963 3.49650756 3.09104245 4.18965474 4.00733319]\n",
      "sqrt [3.31662479 6.63324958 5.74456265 4.69041576 8.1240384  7.41619849]\n",
      "max 66\n",
      "min 11\n",
      "Sum 231\n",
      "Sort [11 22 33 44 55 66]\n"
     ]
    }
   ],
   "source": [
    "from numpy import *\n",
    "arr=array([11,44,33,22,66,55])\n",
    "print(\"Array\",arr)\n",
    "print(\"Sine\",sin(arr))\n",
    "print(\"Cosine\",cos(arr))\n",
    "print(\"tan\",tan(arr))\n",
    "print(\"log\",log(arr))\n",
    "print(\"sqrt\",sqrt(arr))\n",
    "print(\"max\",max(arr))\n",
    "print(\"min\",min(arr))\n",
    "print(\"Sum\",sum(arr))\n",
    "print(\"Sort\",sort(arr))"
   ]
  },
  {
   "cell_type": "code",
   "execution_count": null,
   "metadata": {},
   "outputs": [],
   "source": []
  }
 ],
 "metadata": {
  "kernelspec": {
   "display_name": "Python 3",
   "language": "python",
   "name": "python3"
  },
  "language_info": {
   "codemirror_mode": {
    "name": "ipython",
    "version": 3
   },
   "file_extension": ".py",
   "mimetype": "text/x-python",
   "name": "python",
   "nbconvert_exporter": "python",
   "pygments_lexer": "ipython3",
   "version": "3.7.6"
  }
 },
 "nbformat": 4,
 "nbformat_minor": 4
}
